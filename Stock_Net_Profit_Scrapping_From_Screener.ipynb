{
 "cells": [
  {
   "cell_type": "code",
   "execution_count": 6,
   "id": "75d6b13d",
   "metadata": {},
   "outputs": [],
   "source": [
    "from urllib.request import urlopen as urReq\n",
    "from bs4 import BeautifulSoup as bs\n",
    "import pandas as pd\n",
    "\n",
    "df = pd.read_csv(r\"C:\\Users\\Honey\\Desktop\\All\\Eliphaz\\Web_Scrapping_Net_Profit\\List_of_Stocks.csv\")\n",
    "\n",
    "for k in range(0,len(df)):\n",
    "    try:\n",
    "        Security_Id = df[\"Security Id\"][k]\n",
    "        url = \"https://www.screener.in/company/\"+str(Security_Id)+\"/\"\n",
    "\n",
    "        response_website = urReq(url)\n",
    "        data = response_website.read()\n",
    "        beautifyed_html  = bs(data,\"html.parser\")\n",
    "\n",
    "        all_table = beautifyed_html.find_all(\"div\" , {\"class\":\"responsive-holder fill-card-width\"})[1]\n",
    "        net_profit_table = all_table.find(\"table\").findAll(\"tr\")[10]\n",
    "        list_net_profit = []\n",
    "\n",
    "        for td in net_profit_table.findAll(\"td\"):\n",
    "            i = td.text.replace(\"\\n\",\"\").strip(\" \")\n",
    "            if i != \"Net Profit\":\n",
    "                list_net_profit.append(i)\n",
    "            else:\n",
    "                list_net_profit.append(Security_Id)\n",
    "\n",
    "        net_profit_TTM_check = all_table.find(\"table\").findAll(\"tr\")[0]\n",
    "        j=\"\"\n",
    "        for td in net_profit_TTM_check.findAll(\"th\"):\n",
    "            i = td.text.replace(\"\\n\",\"\").strip(\" \")\n",
    "            if i == \"TTM\":\n",
    "                j=i\n",
    "        if j==\"TTM\":   \n",
    "            list_net_profit.pop()\n",
    "        if len(list_net_profit) != 13:\n",
    "            list_net_profit.insert(1,\"0\")\n",
    "        df.loc[k] = list_net_profit\n",
    "    except Exception as e:\n",
    "        k=k-1\n",
    "    \n",
    "df.to_csv(r\"C:\\Users\\Honey\\Desktop\\All\\Eliphaz\\Web_Scrapping_Net_Profit\\Annual_Net_Profit.csv\")"
   ]
  },
  {
   "cell_type": "code",
   "execution_count": null,
   "id": "db8f98b6",
   "metadata": {},
   "outputs": [],
   "source": []
  }
 ],
 "metadata": {
  "kernelspec": {
   "display_name": "Python 3 (ipykernel)",
   "language": "python",
   "name": "python3"
  },
  "language_info": {
   "codemirror_mode": {
    "name": "ipython",
    "version": 3
   },
   "file_extension": ".py",
   "mimetype": "text/x-python",
   "name": "python",
   "nbconvert_exporter": "python",
   "pygments_lexer": "ipython3",
   "version": "3.9.12"
  }
 },
 "nbformat": 4,
 "nbformat_minor": 5
}
